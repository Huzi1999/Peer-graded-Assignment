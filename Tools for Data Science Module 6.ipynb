{
 "cells": [
  {
   "cell_type": "markdown",
   "id": "cfa0debd",
   "metadata": {},
   "source": [
    "# Final Project"
   ]
  },
  {
   "cell_type": "markdown",
   "id": "73753ee5",
   "metadata": {},
   "source": [
    "# Introduction\n",
    "### This is the introduction for the final project for Module 6 Tools for Data Science"
   ]
  },
  {
   "cell_type": "markdown",
   "id": "d9e914b8",
   "metadata": {},
   "source": [
    "### Data Science Languages\n",
    "1. Python\n",
    "2. R"
   ]
  },
  {
   "cell_type": "markdown",
   "id": "23bfea32",
   "metadata": {},
   "source": [
    "#### Data Science Libraries\n",
    "- Numpy\n",
    "- Pandas\n",
    "- Matplotlib\n",
    "- Seaborn\n",
    "- PyTorch"
   ]
  },
  {
   "cell_type": "markdown",
   "id": "13e1f540",
   "metadata": {},
   "source": [
    "## Exercise 6\n",
    "\n",
    "| HEADING | TOOLS\n",
    "| -------------|--------------|\n",
    "| Data Processing | Jupyter Notebook|\n",
    "| Data Visualisation | PowerBI & Tableau |\n",
    "| Big Data | Hadoop |"
   ]
  },
  {
   "cell_type": "markdown",
   "id": "bea8f36a",
   "metadata": {},
   "source": [
    "### Exercise 7\n",
    "#### Addition\n",
    "sum_result = 10 + 5\n",
    "print(\"Addition (10 + 5):\", sum_result)\n",
    "\n",
    "#### Subtraction\n",
    "difference = 15 - 7\n",
    "print(\"Subtraction (15 - 7):\", difference)\n",
    "\n",
    "#### Multiplication\n",
    "product = 4 * 3\n",
    "print(\"Multiplication (4 * 3):\", product)"
   ]
  },
  {
   "cell_type": "code",
   "execution_count": 7,
   "id": "29eaaf89",
   "metadata": {},
   "outputs": [
    {
     "name": "stdout",
     "output_type": "stream",
     "text": [
      "Multiplication=  72\n",
      "Addition=  17\n"
     ]
    }
   ],
   "source": [
    "# Exercise 8\n",
    "# Multiply\n",
    "a=8\n",
    "b=9\n",
    "c=a*b\n",
    "print(\"Multiplication= \",c)\n",
    "# Addition\n",
    "a=8\n",
    "b=9\n",
    "d=a+b\n",
    "print(\"Addition= \",d)"
   ]
  },
  {
   "cell_type": "code",
   "execution_count": 8,
   "id": "d0228940",
   "metadata": {},
   "outputs": [
    {
     "name": "stdout",
     "output_type": "stream",
     "text": [
      "Enter minutes: 99\n",
      "99 minutes is equal to 1 hour(s) and 39 minute(s).\n"
     ]
    }
   ],
   "source": [
    "# Exercise 9\n",
    "minutes = int(input(\"Enter minutes: \"))\n",
    "# Conversion\n",
    "hours = minutes // 60\n",
    "remaining_minutes = minutes % 60\n",
    "# Output result\n",
    "print(f\"{minutes} minutes is equal to {hours} hour(s) and {remaining_minutes} minute(s).\")"
   ]
  },
  {
   "cell_type": "markdown",
   "id": "547c2d7a",
   "metadata": {},
   "source": [
    "### Exercise 10\n",
    "#### Objective\n",
    "The objective is to complete this final Assignment to gain learn and earn IBM Data Science Professional Certificate"
   ]
  },
  {
   "cell_type": "markdown",
   "id": "d04facc3",
   "metadata": {},
   "source": [
    "### Author's Name\n",
    "# Huzaifa Muzaffar"
   ]
  },
  {
   "cell_type": "code",
   "execution_count": null,
   "id": "bad02167",
   "metadata": {},
   "outputs": [],
   "source": []
  }
 ],
 "metadata": {
  "kernelspec": {
   "display_name": "Python 3 (ipykernel)",
   "language": "python",
   "name": "python3"
  },
  "language_info": {
   "codemirror_mode": {
    "name": "ipython",
    "version": 3
   },
   "file_extension": ".py",
   "mimetype": "text/x-python",
   "name": "python",
   "nbconvert_exporter": "python",
   "pygments_lexer": "ipython3",
   "version": "3.9.13"
  }
 },
 "nbformat": 4,
 "nbformat_minor": 5
}
